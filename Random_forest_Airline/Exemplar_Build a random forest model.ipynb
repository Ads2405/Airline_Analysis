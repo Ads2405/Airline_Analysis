{
 "cells": [
  {
   "cell_type": "code",
   "execution_count": 5,
   "metadata": {
    "id": "ebc64d8b"
   },
   "outputs": [],
   "source": [
    "# Import `numpy`, `pandas`, `pickle`, and `sklearn`.\n",
    "# Import the relevant functions from `sklearn.ensemble`, `sklearn.model_selection`, and `sklearn.metrics`.\n",
    "\n",
    "import numpy as np\n",
    "import pandas as pd\n",
    "\n",
    "import pickle as pkl\n",
    " \n",
    "from sklearn.ensemble import RandomForestClassifier\n",
    "from sklearn.model_selection import train_test_split, PredefinedSplit, GridSearchCV\n",
    "from sklearn.metrics import f1_score, precision_score, recall_score, accuracy_score"
   ]
  },
  {
   "cell_type": "code",
   "execution_count": 2,
   "metadata": {
    "id": "ZvRXUsRChmtg"
   },
   "outputs": [],
   "source": [
    "air_data = pd.read_csv(\"Invistico_Airline.csv\")"
   ]
  },
  {
   "cell_type": "markdown",
   "id": "ce9f13bd",
   "metadata": {
    "id": "7ac7573d"
   },
   "source": [
    "## **Data cleaning** "
   ]
  },
  {
   "cell_type": "code",
   "execution_count": 4,
   "metadata": {
    "colab": {
     "base_uri": "https://localhost:8080/",
     "height": 682
    },
    "executionInfo": {
     "elapsed": 21,
     "status": "ok",
     "timestamp": 1663368003854,
     "user": {
      "displayName": "Lavanya Vijayan",
      "userId": "01043085078394539645"
     },
     "user_tz": 420
    },
    "id": "cda01022",
    "outputId": "d0f4a1f0-efb8-4a50-e74d-3af2638c1a98"
   },
   "outputs": [
    {
     "ename": "NameError",
     "evalue": "name 'air_data' is not defined",
     "output_type": "error",
     "traceback": [
      "\u001b[1;31m---------------------------------------------------------------------------\u001b[0m",
      "\u001b[1;31mNameError\u001b[0m                                 Traceback (most recent call last)",
      "Cell \u001b[1;32mIn[4], line 3\u001b[0m\n\u001b[0;32m      1\u001b[0m \u001b[38;5;66;03m# Display first 10 rows.\u001b[39;00m\n\u001b[1;32m----> 3\u001b[0m \u001b[43mair_data\u001b[49m\n",
      "\u001b[1;31mNameError\u001b[0m: name 'air_data' is not defined"
     ]
    }
   ],
   "source": [
    "# Display first 10 rows.\n",
    "\n",
    "air_data.head"
   ]
  },
  {
   "cell_type": "code",
   "execution_count": 4,
   "metadata": {
    "colab": {
     "base_uri": "https://localhost:8080/"
    },
    "executionInfo": {
     "elapsed": 19,
     "status": "ok",
     "timestamp": 1663368003855,
     "user": {
      "displayName": "Lavanya Vijayan",
      "userId": "01043085078394539645"
     },
     "user_tz": 420
    },
    "id": "yjTctqf_cZZk",
    "outputId": "43f19198-4e92-40d0-b3ad-651d9c6d82ff"
   },
   "outputs": [
    {
     "data": {
      "text/plain": [
       "satisfaction                          object\n",
       "Customer Type                         object\n",
       "Age                                    int64\n",
       "Type of Travel                        object\n",
       "Class                                 object\n",
       "Flight Distance                        int64\n",
       "Seat comfort                           int64\n",
       "Departure/Arrival time convenient      int64\n",
       "Food and drink                         int64\n",
       "Gate location                          int64\n",
       "Inflight wifi service                  int64\n",
       "Inflight entertainment                 int64\n",
       "Online support                         int64\n",
       "Ease of Online booking                 int64\n",
       "On-board service                       int64\n",
       "Leg room service                       int64\n",
       "Baggage handling                       int64\n",
       "Checkin service                        int64\n",
       "Cleanliness                            int64\n",
       "Online boarding                        int64\n",
       "Departure Delay in Minutes             int64\n",
       "Arrival Delay in Minutes             float64\n",
       "dtype: object"
      ]
     },
     "execution_count": 4,
     "metadata": {},
     "output_type": "execute_result"
    }
   ],
   "source": [
    "# Display variable names and types.\n",
    "\n",
    "\n",
    "\n",
    "air_data.dtypes"
   ]
  },
  {
   "cell_type": "code",
   "execution_count": 5,
   "metadata": {
    "colab": {
     "base_uri": "https://localhost:8080/"
    },
    "executionInfo": {
     "elapsed": 16,
     "status": "ok",
     "timestamp": 1663368003856,
     "user": {
      "displayName": "Lavanya Vijayan",
      "userId": "01043085078394539645"
     },
     "user_tz": 420
    },
    "id": "p-s0dOOgBr-1",
    "outputId": "6f032712-04eb-43ca-b7d1-47e863d2766e"
   },
   "outputs": [
    {
     "data": {
      "text/plain": [
       "(129880, 22)"
      ]
     },
     "execution_count": 5,
     "metadata": {},
     "output_type": "execute_result"
    }
   ],
   "source": [
    "# Identify the number of rows and the number of columns.\n",
    "\n",
    "\n",
    "\n",
    "air_data.shape"
   ]
  },
  {
   "cell_type": "code",
   "execution_count": 6,
   "metadata": {
    "colab": {
     "base_uri": "https://localhost:8080/"
    },
    "executionInfo": {
     "elapsed": 411,
     "status": "ok",
     "timestamp": 1663368004257,
     "user": {
      "displayName": "Lavanya Vijayan",
      "userId": "01043085078394539645"
     },
     "user_tz": 420
    },
    "id": "db9be321-d578-4252-833c-a2dfd0e2e937",
    "outputId": "87ff2ba9-3e52-41bc-bffe-40181eedd382"
   },
   "outputs": [
    {
     "data": {
      "text/plain": [
       "393"
      ]
     },
     "execution_count": 6,
     "metadata": {},
     "output_type": "execute_result"
    }
   ],
   "source": [
    "\n",
    "\n",
    "air_data.isna().any(axis=1).sum()"
   ]
  },
  {
   "cell_type": "code",
   "execution_count": 7,
   "metadata": {
    "id": "1cee438e-8b1f-4855-855e-3723d1958b69"
   },
   "outputs": [],
   "source": [
    "\n",
    "\n",
    "air_data_subset = air_data.dropna(axis=0)"
   ]
  },
  {
   "cell_type": "code",
   "execution_count": 8,
   "metadata": {
    "colab": {
     "base_uri": "https://localhost:8080/",
     "height": 682
    },
    "executionInfo": {
     "elapsed": 29,
     "status": "ok",
     "timestamp": 1663368004259,
     "user": {
      "displayName": "Lavanya Vijayan",
      "userId": "01043085078394539645"
     },
     "user_tz": 420
    },
    "id": "ad471526-eb38-4cc3-afa7-f9542439ea35",
    "outputId": "f10297f7-f4d6-415b-d487-de4a1a9e6ef3"
   },
   "outputs": [
    {
     "data": {
      "text/html": [
       "<div>\n",
       "<style scoped>\n",
       "    .dataframe tbody tr th:only-of-type {\n",
       "        vertical-align: middle;\n",
       "    }\n",
       "\n",
       "    .dataframe tbody tr th {\n",
       "        vertical-align: top;\n",
       "    }\n",
       "\n",
       "    .dataframe thead th {\n",
       "        text-align: right;\n",
       "    }\n",
       "</style>\n",
       "<table border=\"1\" class=\"dataframe\">\n",
       "  <thead>\n",
       "    <tr style=\"text-align: right;\">\n",
       "      <th></th>\n",
       "      <th>satisfaction</th>\n",
       "      <th>Customer Type</th>\n",
       "      <th>Age</th>\n",
       "      <th>Type of Travel</th>\n",
       "      <th>Class</th>\n",
       "      <th>Flight Distance</th>\n",
       "      <th>Seat comfort</th>\n",
       "      <th>Departure/Arrival time convenient</th>\n",
       "      <th>Food and drink</th>\n",
       "      <th>Gate location</th>\n",
       "      <th>...</th>\n",
       "      <th>Online support</th>\n",
       "      <th>Ease of Online booking</th>\n",
       "      <th>On-board service</th>\n",
       "      <th>Leg room service</th>\n",
       "      <th>Baggage handling</th>\n",
       "      <th>Checkin service</th>\n",
       "      <th>Cleanliness</th>\n",
       "      <th>Online boarding</th>\n",
       "      <th>Departure Delay in Minutes</th>\n",
       "      <th>Arrival Delay in Minutes</th>\n",
       "    </tr>\n",
       "  </thead>\n",
       "  <tbody>\n",
       "    <tr>\n",
       "      <th>0</th>\n",
       "      <td>satisfied</td>\n",
       "      <td>Loyal Customer</td>\n",
       "      <td>65</td>\n",
       "      <td>Personal Travel</td>\n",
       "      <td>Eco</td>\n",
       "      <td>265</td>\n",
       "      <td>0</td>\n",
       "      <td>0</td>\n",
       "      <td>0</td>\n",
       "      <td>2</td>\n",
       "      <td>...</td>\n",
       "      <td>2</td>\n",
       "      <td>3</td>\n",
       "      <td>3</td>\n",
       "      <td>0</td>\n",
       "      <td>3</td>\n",
       "      <td>5</td>\n",
       "      <td>3</td>\n",
       "      <td>2</td>\n",
       "      <td>0</td>\n",
       "      <td>0.0</td>\n",
       "    </tr>\n",
       "    <tr>\n",
       "      <th>1</th>\n",
       "      <td>satisfied</td>\n",
       "      <td>Loyal Customer</td>\n",
       "      <td>47</td>\n",
       "      <td>Personal Travel</td>\n",
       "      <td>Business</td>\n",
       "      <td>2464</td>\n",
       "      <td>0</td>\n",
       "      <td>0</td>\n",
       "      <td>0</td>\n",
       "      <td>3</td>\n",
       "      <td>...</td>\n",
       "      <td>2</td>\n",
       "      <td>3</td>\n",
       "      <td>4</td>\n",
       "      <td>4</td>\n",
       "      <td>4</td>\n",
       "      <td>2</td>\n",
       "      <td>3</td>\n",
       "      <td>2</td>\n",
       "      <td>310</td>\n",
       "      <td>305.0</td>\n",
       "    </tr>\n",
       "    <tr>\n",
       "      <th>2</th>\n",
       "      <td>satisfied</td>\n",
       "      <td>Loyal Customer</td>\n",
       "      <td>15</td>\n",
       "      <td>Personal Travel</td>\n",
       "      <td>Eco</td>\n",
       "      <td>2138</td>\n",
       "      <td>0</td>\n",
       "      <td>0</td>\n",
       "      <td>0</td>\n",
       "      <td>3</td>\n",
       "      <td>...</td>\n",
       "      <td>2</td>\n",
       "      <td>2</td>\n",
       "      <td>3</td>\n",
       "      <td>3</td>\n",
       "      <td>4</td>\n",
       "      <td>4</td>\n",
       "      <td>4</td>\n",
       "      <td>2</td>\n",
       "      <td>0</td>\n",
       "      <td>0.0</td>\n",
       "    </tr>\n",
       "    <tr>\n",
       "      <th>3</th>\n",
       "      <td>satisfied</td>\n",
       "      <td>Loyal Customer</td>\n",
       "      <td>60</td>\n",
       "      <td>Personal Travel</td>\n",
       "      <td>Eco</td>\n",
       "      <td>623</td>\n",
       "      <td>0</td>\n",
       "      <td>0</td>\n",
       "      <td>0</td>\n",
       "      <td>3</td>\n",
       "      <td>...</td>\n",
       "      <td>3</td>\n",
       "      <td>1</td>\n",
       "      <td>1</td>\n",
       "      <td>0</td>\n",
       "      <td>1</td>\n",
       "      <td>4</td>\n",
       "      <td>1</td>\n",
       "      <td>3</td>\n",
       "      <td>0</td>\n",
       "      <td>0.0</td>\n",
       "    </tr>\n",
       "    <tr>\n",
       "      <th>4</th>\n",
       "      <td>satisfied</td>\n",
       "      <td>Loyal Customer</td>\n",
       "      <td>70</td>\n",
       "      <td>Personal Travel</td>\n",
       "      <td>Eco</td>\n",
       "      <td>354</td>\n",
       "      <td>0</td>\n",
       "      <td>0</td>\n",
       "      <td>0</td>\n",
       "      <td>3</td>\n",
       "      <td>...</td>\n",
       "      <td>4</td>\n",
       "      <td>2</td>\n",
       "      <td>2</td>\n",
       "      <td>0</td>\n",
       "      <td>2</td>\n",
       "      <td>4</td>\n",
       "      <td>2</td>\n",
       "      <td>5</td>\n",
       "      <td>0</td>\n",
       "      <td>0.0</td>\n",
       "    </tr>\n",
       "    <tr>\n",
       "      <th>5</th>\n",
       "      <td>satisfied</td>\n",
       "      <td>Loyal Customer</td>\n",
       "      <td>30</td>\n",
       "      <td>Personal Travel</td>\n",
       "      <td>Eco</td>\n",
       "      <td>1894</td>\n",
       "      <td>0</td>\n",
       "      <td>0</td>\n",
       "      <td>0</td>\n",
       "      <td>3</td>\n",
       "      <td>...</td>\n",
       "      <td>2</td>\n",
       "      <td>2</td>\n",
       "      <td>5</td>\n",
       "      <td>4</td>\n",
       "      <td>5</td>\n",
       "      <td>5</td>\n",
       "      <td>4</td>\n",
       "      <td>2</td>\n",
       "      <td>0</td>\n",
       "      <td>0.0</td>\n",
       "    </tr>\n",
       "    <tr>\n",
       "      <th>6</th>\n",
       "      <td>satisfied</td>\n",
       "      <td>Loyal Customer</td>\n",
       "      <td>66</td>\n",
       "      <td>Personal Travel</td>\n",
       "      <td>Eco</td>\n",
       "      <td>227</td>\n",
       "      <td>0</td>\n",
       "      <td>0</td>\n",
       "      <td>0</td>\n",
       "      <td>3</td>\n",
       "      <td>...</td>\n",
       "      <td>5</td>\n",
       "      <td>5</td>\n",
       "      <td>5</td>\n",
       "      <td>0</td>\n",
       "      <td>5</td>\n",
       "      <td>5</td>\n",
       "      <td>5</td>\n",
       "      <td>3</td>\n",
       "      <td>17</td>\n",
       "      <td>15.0</td>\n",
       "    </tr>\n",
       "    <tr>\n",
       "      <th>7</th>\n",
       "      <td>satisfied</td>\n",
       "      <td>Loyal Customer</td>\n",
       "      <td>10</td>\n",
       "      <td>Personal Travel</td>\n",
       "      <td>Eco</td>\n",
       "      <td>1812</td>\n",
       "      <td>0</td>\n",
       "      <td>0</td>\n",
       "      <td>0</td>\n",
       "      <td>3</td>\n",
       "      <td>...</td>\n",
       "      <td>2</td>\n",
       "      <td>2</td>\n",
       "      <td>3</td>\n",
       "      <td>3</td>\n",
       "      <td>4</td>\n",
       "      <td>5</td>\n",
       "      <td>4</td>\n",
       "      <td>2</td>\n",
       "      <td>0</td>\n",
       "      <td>0.0</td>\n",
       "    </tr>\n",
       "    <tr>\n",
       "      <th>8</th>\n",
       "      <td>satisfied</td>\n",
       "      <td>Loyal Customer</td>\n",
       "      <td>56</td>\n",
       "      <td>Personal Travel</td>\n",
       "      <td>Business</td>\n",
       "      <td>73</td>\n",
       "      <td>0</td>\n",
       "      <td>0</td>\n",
       "      <td>0</td>\n",
       "      <td>3</td>\n",
       "      <td>...</td>\n",
       "      <td>5</td>\n",
       "      <td>4</td>\n",
       "      <td>4</td>\n",
       "      <td>0</td>\n",
       "      <td>1</td>\n",
       "      <td>5</td>\n",
       "      <td>4</td>\n",
       "      <td>4</td>\n",
       "      <td>0</td>\n",
       "      <td>0.0</td>\n",
       "    </tr>\n",
       "    <tr>\n",
       "      <th>9</th>\n",
       "      <td>satisfied</td>\n",
       "      <td>Loyal Customer</td>\n",
       "      <td>22</td>\n",
       "      <td>Personal Travel</td>\n",
       "      <td>Eco</td>\n",
       "      <td>1556</td>\n",
       "      <td>0</td>\n",
       "      <td>0</td>\n",
       "      <td>0</td>\n",
       "      <td>3</td>\n",
       "      <td>...</td>\n",
       "      <td>2</td>\n",
       "      <td>2</td>\n",
       "      <td>2</td>\n",
       "      <td>4</td>\n",
       "      <td>5</td>\n",
       "      <td>3</td>\n",
       "      <td>4</td>\n",
       "      <td>2</td>\n",
       "      <td>30</td>\n",
       "      <td>26.0</td>\n",
       "    </tr>\n",
       "  </tbody>\n",
       "</table>\n",
       "<p>10 rows × 22 columns</p>\n",
       "</div>"
      ],
      "text/plain": [
       "  satisfaction   Customer Type  Age   Type of Travel     Class  \\\n",
       "0    satisfied  Loyal Customer   65  Personal Travel       Eco   \n",
       "1    satisfied  Loyal Customer   47  Personal Travel  Business   \n",
       "2    satisfied  Loyal Customer   15  Personal Travel       Eco   \n",
       "3    satisfied  Loyal Customer   60  Personal Travel       Eco   \n",
       "4    satisfied  Loyal Customer   70  Personal Travel       Eco   \n",
       "5    satisfied  Loyal Customer   30  Personal Travel       Eco   \n",
       "6    satisfied  Loyal Customer   66  Personal Travel       Eco   \n",
       "7    satisfied  Loyal Customer   10  Personal Travel       Eco   \n",
       "8    satisfied  Loyal Customer   56  Personal Travel  Business   \n",
       "9    satisfied  Loyal Customer   22  Personal Travel       Eco   \n",
       "\n",
       "   Flight Distance  Seat comfort  Departure/Arrival time convenient  \\\n",
       "0              265             0                                  0   \n",
       "1             2464             0                                  0   \n",
       "2             2138             0                                  0   \n",
       "3              623             0                                  0   \n",
       "4              354             0                                  0   \n",
       "5             1894             0                                  0   \n",
       "6              227             0                                  0   \n",
       "7             1812             0                                  0   \n",
       "8               73             0                                  0   \n",
       "9             1556             0                                  0   \n",
       "\n",
       "   Food and drink  Gate location  ...  Online support  Ease of Online booking  \\\n",
       "0               0              2  ...               2                       3   \n",
       "1               0              3  ...               2                       3   \n",
       "2               0              3  ...               2                       2   \n",
       "3               0              3  ...               3                       1   \n",
       "4               0              3  ...               4                       2   \n",
       "5               0              3  ...               2                       2   \n",
       "6               0              3  ...               5                       5   \n",
       "7               0              3  ...               2                       2   \n",
       "8               0              3  ...               5                       4   \n",
       "9               0              3  ...               2                       2   \n",
       "\n",
       "   On-board service  Leg room service  Baggage handling  Checkin service  \\\n",
       "0                 3                 0                 3                5   \n",
       "1                 4                 4                 4                2   \n",
       "2                 3                 3                 4                4   \n",
       "3                 1                 0                 1                4   \n",
       "4                 2                 0                 2                4   \n",
       "5                 5                 4                 5                5   \n",
       "6                 5                 0                 5                5   \n",
       "7                 3                 3                 4                5   \n",
       "8                 4                 0                 1                5   \n",
       "9                 2                 4                 5                3   \n",
       "\n",
       "   Cleanliness  Online boarding  Departure Delay in Minutes  \\\n",
       "0            3                2                           0   \n",
       "1            3                2                         310   \n",
       "2            4                2                           0   \n",
       "3            1                3                           0   \n",
       "4            2                5                           0   \n",
       "5            4                2                           0   \n",
       "6            5                3                          17   \n",
       "7            4                2                           0   \n",
       "8            4                4                           0   \n",
       "9            4                2                          30   \n",
       "\n",
       "   Arrival Delay in Minutes  \n",
       "0                       0.0  \n",
       "1                     305.0  \n",
       "2                       0.0  \n",
       "3                       0.0  \n",
       "4                       0.0  \n",
       "5                       0.0  \n",
       "6                      15.0  \n",
       "7                       0.0  \n",
       "8                       0.0  \n",
       "9                      26.0  \n",
       "\n",
       "[10 rows x 22 columns]"
      ]
     },
     "execution_count": 8,
     "metadata": {},
     "output_type": "execute_result"
    }
   ],
   "source": [
    "# Display the first 10 rows.\n",
    "\n",
    "air_data_subset.head(10)"
   ]
  },
  {
   "cell_type": "code",
   "execution_count": 9,
   "metadata": {
    "colab": {
     "base_uri": "https://localhost:8080/"
    },
    "executionInfo": {
     "elapsed": 27,
     "status": "ok",
     "timestamp": 1663368004260,
     "user": {
      "displayName": "Lavanya Vijayan",
      "userId": "01043085078394539645"
     },
     "user_tz": 420
    },
    "id": "f22e303c-2c42-4227-9083-447839e2b300",
    "outputId": "9995365d-6956-4bce-8dcb-ed400478d798"
   },
   "outputs": [
    {
     "data": {
      "text/plain": [
       "satisfaction                         0\n",
       "Customer Type                        0\n",
       "Age                                  0\n",
       "Type of Travel                       0\n",
       "Class                                0\n",
       "Flight Distance                      0\n",
       "Seat comfort                         0\n",
       "Departure/Arrival time convenient    0\n",
       "Food and drink                       0\n",
       "Gate location                        0\n",
       "Inflight wifi service                0\n",
       "Inflight entertainment               0\n",
       "Online support                       0\n",
       "Ease of Online booking               0\n",
       "On-board service                     0\n",
       "Leg room service                     0\n",
       "Baggage handling                     0\n",
       "Checkin service                      0\n",
       "Cleanliness                          0\n",
       "Online boarding                      0\n",
       "Departure Delay in Minutes           0\n",
       "Arrival Delay in Minutes             0\n",
       "dtype: int64"
      ]
     },
     "execution_count": 9,
     "metadata": {},
     "output_type": "execute_result"
    }
   ],
   "source": [
    "\n",
    "air_data_subset.isna().sum()"
   ]
  },
  {
   "cell_type": "code",
   "execution_count": 10,
   "metadata": {
    "id": "03d00d56"
   },
   "outputs": [],
   "source": [
    "\n",
    "\n",
    "air_data_subset_dummies = pd.get_dummies(air_data_subset, \n",
    "                                         columns=['Customer Type','Type of Travel','Class'])"
   ]
  },
  {
   "cell_type": "code",
   "execution_count": 11,
   "metadata": {
    "colab": {
     "base_uri": "https://localhost:8080/",
     "height": 509
    },
    "executionInfo": {
     "elapsed": 23,
     "status": "ok",
     "timestamp": 1663368004262,
     "user": {
      "displayName": "Lavanya Vijayan",
      "userId": "01043085078394539645"
     },
     "user_tz": 420
    },
    "id": "139cb903",
    "outputId": "8fde7c8c-9e24-4b2d-d39f-810fafbfdd2b"
   },
   "outputs": [
    {
     "data": {
      "text/html": [
       "<div>\n",
       "<style scoped>\n",
       "    .dataframe tbody tr th:only-of-type {\n",
       "        vertical-align: middle;\n",
       "    }\n",
       "\n",
       "    .dataframe tbody tr th {\n",
       "        vertical-align: top;\n",
       "    }\n",
       "\n",
       "    .dataframe thead th {\n",
       "        text-align: right;\n",
       "    }\n",
       "</style>\n",
       "<table border=\"1\" class=\"dataframe\">\n",
       "  <thead>\n",
       "    <tr style=\"text-align: right;\">\n",
       "      <th></th>\n",
       "      <th>satisfaction</th>\n",
       "      <th>Age</th>\n",
       "      <th>Flight Distance</th>\n",
       "      <th>Seat comfort</th>\n",
       "      <th>Departure/Arrival time convenient</th>\n",
       "      <th>Food and drink</th>\n",
       "      <th>Gate location</th>\n",
       "      <th>Inflight wifi service</th>\n",
       "      <th>Inflight entertainment</th>\n",
       "      <th>Online support</th>\n",
       "      <th>...</th>\n",
       "      <th>Online boarding</th>\n",
       "      <th>Departure Delay in Minutes</th>\n",
       "      <th>Arrival Delay in Minutes</th>\n",
       "      <th>Customer Type_Loyal Customer</th>\n",
       "      <th>Customer Type_disloyal Customer</th>\n",
       "      <th>Type of Travel_Business travel</th>\n",
       "      <th>Type of Travel_Personal Travel</th>\n",
       "      <th>Class_Business</th>\n",
       "      <th>Class_Eco</th>\n",
       "      <th>Class_Eco Plus</th>\n",
       "    </tr>\n",
       "  </thead>\n",
       "  <tbody>\n",
       "    <tr>\n",
       "      <th>0</th>\n",
       "      <td>satisfied</td>\n",
       "      <td>65</td>\n",
       "      <td>265</td>\n",
       "      <td>0</td>\n",
       "      <td>0</td>\n",
       "      <td>0</td>\n",
       "      <td>2</td>\n",
       "      <td>2</td>\n",
       "      <td>4</td>\n",
       "      <td>2</td>\n",
       "      <td>...</td>\n",
       "      <td>2</td>\n",
       "      <td>0</td>\n",
       "      <td>0.0</td>\n",
       "      <td>1</td>\n",
       "      <td>0</td>\n",
       "      <td>0</td>\n",
       "      <td>1</td>\n",
       "      <td>0</td>\n",
       "      <td>1</td>\n",
       "      <td>0</td>\n",
       "    </tr>\n",
       "    <tr>\n",
       "      <th>1</th>\n",
       "      <td>satisfied</td>\n",
       "      <td>47</td>\n",
       "      <td>2464</td>\n",
       "      <td>0</td>\n",
       "      <td>0</td>\n",
       "      <td>0</td>\n",
       "      <td>3</td>\n",
       "      <td>0</td>\n",
       "      <td>2</td>\n",
       "      <td>2</td>\n",
       "      <td>...</td>\n",
       "      <td>2</td>\n",
       "      <td>310</td>\n",
       "      <td>305.0</td>\n",
       "      <td>1</td>\n",
       "      <td>0</td>\n",
       "      <td>0</td>\n",
       "      <td>1</td>\n",
       "      <td>1</td>\n",
       "      <td>0</td>\n",
       "      <td>0</td>\n",
       "    </tr>\n",
       "    <tr>\n",
       "      <th>2</th>\n",
       "      <td>satisfied</td>\n",
       "      <td>15</td>\n",
       "      <td>2138</td>\n",
       "      <td>0</td>\n",
       "      <td>0</td>\n",
       "      <td>0</td>\n",
       "      <td>3</td>\n",
       "      <td>2</td>\n",
       "      <td>0</td>\n",
       "      <td>2</td>\n",
       "      <td>...</td>\n",
       "      <td>2</td>\n",
       "      <td>0</td>\n",
       "      <td>0.0</td>\n",
       "      <td>1</td>\n",
       "      <td>0</td>\n",
       "      <td>0</td>\n",
       "      <td>1</td>\n",
       "      <td>0</td>\n",
       "      <td>1</td>\n",
       "      <td>0</td>\n",
       "    </tr>\n",
       "    <tr>\n",
       "      <th>3</th>\n",
       "      <td>satisfied</td>\n",
       "      <td>60</td>\n",
       "      <td>623</td>\n",
       "      <td>0</td>\n",
       "      <td>0</td>\n",
       "      <td>0</td>\n",
       "      <td>3</td>\n",
       "      <td>3</td>\n",
       "      <td>4</td>\n",
       "      <td>3</td>\n",
       "      <td>...</td>\n",
       "      <td>3</td>\n",
       "      <td>0</td>\n",
       "      <td>0.0</td>\n",
       "      <td>1</td>\n",
       "      <td>0</td>\n",
       "      <td>0</td>\n",
       "      <td>1</td>\n",
       "      <td>0</td>\n",
       "      <td>1</td>\n",
       "      <td>0</td>\n",
       "    </tr>\n",
       "    <tr>\n",
       "      <th>4</th>\n",
       "      <td>satisfied</td>\n",
       "      <td>70</td>\n",
       "      <td>354</td>\n",
       "      <td>0</td>\n",
       "      <td>0</td>\n",
       "      <td>0</td>\n",
       "      <td>3</td>\n",
       "      <td>4</td>\n",
       "      <td>3</td>\n",
       "      <td>4</td>\n",
       "      <td>...</td>\n",
       "      <td>5</td>\n",
       "      <td>0</td>\n",
       "      <td>0.0</td>\n",
       "      <td>1</td>\n",
       "      <td>0</td>\n",
       "      <td>0</td>\n",
       "      <td>1</td>\n",
       "      <td>0</td>\n",
       "      <td>1</td>\n",
       "      <td>0</td>\n",
       "    </tr>\n",
       "    <tr>\n",
       "      <th>5</th>\n",
       "      <td>satisfied</td>\n",
       "      <td>30</td>\n",
       "      <td>1894</td>\n",
       "      <td>0</td>\n",
       "      <td>0</td>\n",
       "      <td>0</td>\n",
       "      <td>3</td>\n",
       "      <td>2</td>\n",
       "      <td>0</td>\n",
       "      <td>2</td>\n",
       "      <td>...</td>\n",
       "      <td>2</td>\n",
       "      <td>0</td>\n",
       "      <td>0.0</td>\n",
       "      <td>1</td>\n",
       "      <td>0</td>\n",
       "      <td>0</td>\n",
       "      <td>1</td>\n",
       "      <td>0</td>\n",
       "      <td>1</td>\n",
       "      <td>0</td>\n",
       "    </tr>\n",
       "    <tr>\n",
       "      <th>6</th>\n",
       "      <td>satisfied</td>\n",
       "      <td>66</td>\n",
       "      <td>227</td>\n",
       "      <td>0</td>\n",
       "      <td>0</td>\n",
       "      <td>0</td>\n",
       "      <td>3</td>\n",
       "      <td>2</td>\n",
       "      <td>5</td>\n",
       "      <td>5</td>\n",
       "      <td>...</td>\n",
       "      <td>3</td>\n",
       "      <td>17</td>\n",
       "      <td>15.0</td>\n",
       "      <td>1</td>\n",
       "      <td>0</td>\n",
       "      <td>0</td>\n",
       "      <td>1</td>\n",
       "      <td>0</td>\n",
       "      <td>1</td>\n",
       "      <td>0</td>\n",
       "    </tr>\n",
       "    <tr>\n",
       "      <th>7</th>\n",
       "      <td>satisfied</td>\n",
       "      <td>10</td>\n",
       "      <td>1812</td>\n",
       "      <td>0</td>\n",
       "      <td>0</td>\n",
       "      <td>0</td>\n",
       "      <td>3</td>\n",
       "      <td>2</td>\n",
       "      <td>0</td>\n",
       "      <td>2</td>\n",
       "      <td>...</td>\n",
       "      <td>2</td>\n",
       "      <td>0</td>\n",
       "      <td>0.0</td>\n",
       "      <td>1</td>\n",
       "      <td>0</td>\n",
       "      <td>0</td>\n",
       "      <td>1</td>\n",
       "      <td>0</td>\n",
       "      <td>1</td>\n",
       "      <td>0</td>\n",
       "    </tr>\n",
       "    <tr>\n",
       "      <th>8</th>\n",
       "      <td>satisfied</td>\n",
       "      <td>56</td>\n",
       "      <td>73</td>\n",
       "      <td>0</td>\n",
       "      <td>0</td>\n",
       "      <td>0</td>\n",
       "      <td>3</td>\n",
       "      <td>5</td>\n",
       "      <td>3</td>\n",
       "      <td>5</td>\n",
       "      <td>...</td>\n",
       "      <td>4</td>\n",
       "      <td>0</td>\n",
       "      <td>0.0</td>\n",
       "      <td>1</td>\n",
       "      <td>0</td>\n",
       "      <td>0</td>\n",
       "      <td>1</td>\n",
       "      <td>1</td>\n",
       "      <td>0</td>\n",
       "      <td>0</td>\n",
       "    </tr>\n",
       "    <tr>\n",
       "      <th>9</th>\n",
       "      <td>satisfied</td>\n",
       "      <td>22</td>\n",
       "      <td>1556</td>\n",
       "      <td>0</td>\n",
       "      <td>0</td>\n",
       "      <td>0</td>\n",
       "      <td>3</td>\n",
       "      <td>2</td>\n",
       "      <td>0</td>\n",
       "      <td>2</td>\n",
       "      <td>...</td>\n",
       "      <td>2</td>\n",
       "      <td>30</td>\n",
       "      <td>26.0</td>\n",
       "      <td>1</td>\n",
       "      <td>0</td>\n",
       "      <td>0</td>\n",
       "      <td>1</td>\n",
       "      <td>0</td>\n",
       "      <td>1</td>\n",
       "      <td>0</td>\n",
       "    </tr>\n",
       "  </tbody>\n",
       "</table>\n",
       "<p>10 rows × 26 columns</p>\n",
       "</div>"
      ],
      "text/plain": [
       "  satisfaction  Age  Flight Distance  Seat comfort  \\\n",
       "0    satisfied   65              265             0   \n",
       "1    satisfied   47             2464             0   \n",
       "2    satisfied   15             2138             0   \n",
       "3    satisfied   60              623             0   \n",
       "4    satisfied   70              354             0   \n",
       "5    satisfied   30             1894             0   \n",
       "6    satisfied   66              227             0   \n",
       "7    satisfied   10             1812             0   \n",
       "8    satisfied   56               73             0   \n",
       "9    satisfied   22             1556             0   \n",
       "\n",
       "   Departure/Arrival time convenient  Food and drink  Gate location  \\\n",
       "0                                  0               0              2   \n",
       "1                                  0               0              3   \n",
       "2                                  0               0              3   \n",
       "3                                  0               0              3   \n",
       "4                                  0               0              3   \n",
       "5                                  0               0              3   \n",
       "6                                  0               0              3   \n",
       "7                                  0               0              3   \n",
       "8                                  0               0              3   \n",
       "9                                  0               0              3   \n",
       "\n",
       "   Inflight wifi service  Inflight entertainment  Online support  ...  \\\n",
       "0                      2                       4               2  ...   \n",
       "1                      0                       2               2  ...   \n",
       "2                      2                       0               2  ...   \n",
       "3                      3                       4               3  ...   \n",
       "4                      4                       3               4  ...   \n",
       "5                      2                       0               2  ...   \n",
       "6                      2                       5               5  ...   \n",
       "7                      2                       0               2  ...   \n",
       "8                      5                       3               5  ...   \n",
       "9                      2                       0               2  ...   \n",
       "\n",
       "   Online boarding  Departure Delay in Minutes  Arrival Delay in Minutes  \\\n",
       "0                2                           0                       0.0   \n",
       "1                2                         310                     305.0   \n",
       "2                2                           0                       0.0   \n",
       "3                3                           0                       0.0   \n",
       "4                5                           0                       0.0   \n",
       "5                2                           0                       0.0   \n",
       "6                3                          17                      15.0   \n",
       "7                2                           0                       0.0   \n",
       "8                4                           0                       0.0   \n",
       "9                2                          30                      26.0   \n",
       "\n",
       "   Customer Type_Loyal Customer  Customer Type_disloyal Customer  \\\n",
       "0                             1                                0   \n",
       "1                             1                                0   \n",
       "2                             1                                0   \n",
       "3                             1                                0   \n",
       "4                             1                                0   \n",
       "5                             1                                0   \n",
       "6                             1                                0   \n",
       "7                             1                                0   \n",
       "8                             1                                0   \n",
       "9                             1                                0   \n",
       "\n",
       "   Type of Travel_Business travel  Type of Travel_Personal Travel  \\\n",
       "0                               0                               1   \n",
       "1                               0                               1   \n",
       "2                               0                               1   \n",
       "3                               0                               1   \n",
       "4                               0                               1   \n",
       "5                               0                               1   \n",
       "6                               0                               1   \n",
       "7                               0                               1   \n",
       "8                               0                               1   \n",
       "9                               0                               1   \n",
       "\n",
       "   Class_Business  Class_Eco  Class_Eco Plus  \n",
       "0               0          1               0  \n",
       "1               1          0               0  \n",
       "2               0          1               0  \n",
       "3               0          1               0  \n",
       "4               0          1               0  \n",
       "5               0          1               0  \n",
       "6               0          1               0  \n",
       "7               0          1               0  \n",
       "8               1          0               0  \n",
       "9               0          1               0  \n",
       "\n",
       "[10 rows x 26 columns]"
      ]
     },
     "execution_count": 11,
     "metadata": {},
     "output_type": "execute_result"
    }
   ],
   "source": [
    "# Display the first 10 rows.\n",
    "\n",
    "air_data_subset_dummies.head(10)"
   ]
  },
  {
   "cell_type": "code",
   "execution_count": 12,
   "metadata": {
    "colab": {
     "base_uri": "https://localhost:8080/"
    },
    "executionInfo": {
     "elapsed": 19,
     "status": "ok",
     "timestamp": 1663368004262,
     "user": {
      "displayName": "Lavanya Vijayan",
      "userId": "01043085078394539645"
     },
     "user_tz": 420
    },
    "id": "X1V76nRmZoWN",
    "outputId": "9d0a4a46-8f29-43bd-8572-fd9295343370"
   },
   "outputs": [
    {
     "data": {
      "text/plain": [
       "satisfaction                          object\n",
       "Age                                    int64\n",
       "Flight Distance                        int64\n",
       "Seat comfort                           int64\n",
       "Departure/Arrival time convenient      int64\n",
       "Food and drink                         int64\n",
       "Gate location                          int64\n",
       "Inflight wifi service                  int64\n",
       "Inflight entertainment                 int64\n",
       "Online support                         int64\n",
       "Ease of Online booking                 int64\n",
       "On-board service                       int64\n",
       "Leg room service                       int64\n",
       "Baggage handling                       int64\n",
       "Checkin service                        int64\n",
       "Cleanliness                            int64\n",
       "Online boarding                        int64\n",
       "Departure Delay in Minutes             int64\n",
       "Arrival Delay in Minutes             float64\n",
       "Customer Type_Loyal Customer           uint8\n",
       "Customer Type_disloyal Customer        uint8\n",
       "Type of Travel_Business travel         uint8\n",
       "Type of Travel_Personal Travel         uint8\n",
       "Class_Business                         uint8\n",
       "Class_Eco                              uint8\n",
       "Class_Eco Plus                         uint8\n",
       "dtype: object"
      ]
     },
     "execution_count": 12,
     "metadata": {},
     "output_type": "execute_result"
    }
   ],
   "source": [
    "\n",
    "\n",
    "air_data_subset_dummies.dtypes"
   ]
  },
  {
   "cell_type": "code",
   "execution_count": 13,
   "metadata": {
    "id": "80535d2f-8b1a-4715-b07a-f3734d8cc4c5"
   },
   "outputs": [],
   "source": [
    "# Separate the dataset into labels (y) and features (X).\n",
    "\n",
    "y = air_data_subset_dummies[\"satisfaction\"]\n",
    "X = air_data_subset_dummies.drop(\"satisfaction\", axis=1)"
   ]
  },
  {
   "cell_type": "code",
   "execution_count": 14,
   "metadata": {
    "id": "0de77cb8"
   },
   "outputs": [],
   "source": [
    "# Separate into train, validate, test sets.\n",
    "\n",
    "X_train, X_test, y_train, y_test = train_test_split(X, y, test_size = 0.25, random_state = 0)\n",
    "X_tr, X_val, y_tr, y_val = train_test_split(X_train, y_train, test_size = 0.25, random_state = 0)\n"
   ]
  },
  {
   "cell_type": "code",
   "execution_count": 15,
   "metadata": {
    "id": "7bfdf346"
   },
   "outputs": [],
   "source": [
    "# Determine set of hyperparameters.\n",
    "\n",
    "\n",
    "cv_params = {'n_estimators' : [50,100], \n",
    "              'max_depth' : [10,50],        \n",
    "              'min_samples_leaf' : [0.5,1], \n",
    "              'min_samples_split' : [0.001, 0.01],\n",
    "              'max_features' : [\"sqrt\"], \n",
    "              'max_samples' : [.5,.9]}"
   ]
  },
  {
   "cell_type": "code",
   "execution_count": 16,
   "metadata": {
    "id": "a58b4d77-6023-428d-89aa-4d2ac52003dc"
   },
   "outputs": [],
   "source": [
    "\n",
    "\n",
    "split_index = [0 if x in X_val.index else -1 for x in X_train.index]\n",
    "custom_split = PredefinedSplit(split_index)"
   ]
  },
  {
   "cell_type": "code",
   "execution_count": 17,
   "metadata": {
    "id": "U0qvZjujbTKL"
   },
   "outputs": [],
   "source": [
    "\n",
    "\n",
    "rf = RandomForestClassifier(random_state=0)"
   ]
  },
  {
   "cell_type": "code",
   "execution_count": 18,
   "metadata": {
    "id": "228e65c3"
   },
   "outputs": [],
   "source": [
    "\n",
    "rf_val = GridSearchCV(rf, cv_params, cv=custom_split, refit='f1', n_jobs = -1, verbose = 1)"
   ]
  },
  {
   "cell_type": "code",
   "execution_count": 19,
   "metadata": {
    "colab": {
     "base_uri": "https://localhost:8080/"
    },
    "executionInfo": {
     "elapsed": 82938,
     "status": "ok",
     "timestamp": 1663368087480,
     "user": {
      "displayName": "Lavanya Vijayan",
      "userId": "01043085078394539645"
     },
     "user_tz": 420
    },
    "id": "gw_woSKtfsAk",
    "outputId": "4928a458-1ff2-476e-9a0b-df5504b4ebe3"
   },
   "outputs": [
    {
     "name": "stdout",
     "output_type": "stream",
     "text": [
      "Fitting 1 folds for each of 32 candidates, totalling 32 fits\n"
     ]
    },
    {
     "name": "stderr",
     "output_type": "stream",
     "text": [
      "[Parallel(n_jobs=-1)]: Using backend LokyBackend with 2 concurrent workers.\n",
      "[Parallel(n_jobs=-1)]: Done  32 out of  32 | elapsed:   40.8s finished\n"
     ]
    },
    {
     "name": "stdout",
     "output_type": "stream",
     "text": [
      "CPU times: user 4.99 s, sys: 87.7 ms, total: 5.08 s\n",
      "Wall time: 45.5 s\n"
     ]
    },
    {
     "data": {
      "text/plain": [
       "GridSearchCV(cv=PredefinedSplit(test_fold=array([-1, -1, ..., -1, -1])),\n",
       "             error_score=nan,\n",
       "             estimator=RandomForestClassifier(bootstrap=True, ccp_alpha=0.0,\n",
       "                                              class_weight=None,\n",
       "                                              criterion='gini', max_depth=None,\n",
       "                                              max_features='auto',\n",
       "                                              max_leaf_nodes=None,\n",
       "                                              max_samples=None,\n",
       "                                              min_impurity_decrease=0.0,\n",
       "                                              min_impurity_split=None,\n",
       "                                              min_samples_leaf=1,\n",
       "                                              min_samples_split=2,\n",
       "                                              min_weig...\n",
       "                                              n_estimators=100, n_jobs=None,\n",
       "                                              oob_score=False, random_state=0,\n",
       "                                              verbose=0, warm_start=False),\n",
       "             iid='deprecated', n_jobs=-1,\n",
       "             param_grid={'max_depth': [10, 50], 'max_features': ['sqrt'],\n",
       "                         'max_samples': [0.5, 0.9],\n",
       "                         'min_samples_leaf': [0.5, 1],\n",
       "                         'min_samples_split': [0.001, 0.01],\n",
       "                         'n_estimators': [50, 100]},\n",
       "             pre_dispatch='2*n_jobs', refit='f1', return_train_score=False,\n",
       "             scoring=None, verbose=1)"
      ]
     },
     "execution_count": 19,
     "metadata": {},
     "output_type": "execute_result"
    }
   ],
   "source": [
    "%%time\n",
    "\n",
    "# Fit the model.\n",
    "rf_val.fit(X_train, y_train)"
   ]
  },
  {
   "cell_type": "code",
   "execution_count": 20,
   "metadata": {
    "colab": {
     "base_uri": "https://localhost:8080/"
    },
    "executionInfo": {
     "elapsed": 19,
     "status": "ok",
     "timestamp": 1663368087481,
     "user": {
      "displayName": "Lavanya Vijayan",
      "userId": "01043085078394539645"
     },
     "user_tz": 420
    },
    "id": "c76a0bd9",
    "outputId": "e5def2af-f1b9-4d49-9076-35c18e4bdb38"
   },
   "outputs": [
    {
     "data": {
      "text/plain": [
       "{'max_depth': 50,\n",
       " 'max_features': 'sqrt',\n",
       " 'max_samples': 0.9,\n",
       " 'min_samples_leaf': 1,\n",
       " 'min_samples_split': 0.001,\n",
       " 'n_estimators': 50}"
      ]
     },
     "execution_count": 20,
     "metadata": {},
     "output_type": "execute_result"
    }
   ],
   "source": [
    "# Obtain optimal parameters.\n",
    "\n",
    "rf_val.best_params_"
   ]
  },
  {
   "cell_type": "markdown",
   "metadata": {
    "id": "70fc3ec6-a89a-4b25-a574-29f9d4325694"
   },
   "source": [
    "## **Results and evaluation** "
   ]
  },
  {
   "cell_type": "code",
   "execution_count": 21,
   "metadata": {
    "id": "c6b8aa2d-984f-467a-b52a-e7f21d603a8c"
   },
   "outputs": [],
   "source": [
    "# Use optimal parameters on GridSearchCV.\n",
    "\n",
    "rf_opt = RandomForestClassifier(n_estimators = 50, max_depth = 50, \n",
    "                                min_samples_leaf = 1, min_samples_split = 0.001,\n",
    "                                max_features=\"sqrt\", max_samples = 0.9, random_state = 0)"
   ]
  },
  {
   "cell_type": "code",
   "execution_count": 22,
   "metadata": {
    "colab": {
     "base_uri": "https://localhost:8080/"
    },
    "executionInfo": {
     "elapsed": 6112,
     "status": "ok",
     "timestamp": 1663368093585,
     "user": {
      "displayName": "Lavanya Vijayan",
      "userId": "01043085078394539645"
     },
     "user_tz": 420
    },
    "id": "iJ7MkQ3hjh3u",
    "outputId": "d53a73a4-b993-4d34-93b9-9364aae56c20"
   },
   "outputs": [
    {
     "data": {
      "text/plain": [
       "RandomForestClassifier(bootstrap=True, ccp_alpha=0.0, class_weight=None,\n",
       "                       criterion='gini', max_depth=50, max_features='sqrt',\n",
       "                       max_leaf_nodes=None, max_samples=0.9,\n",
       "                       min_impurity_decrease=0.0, min_impurity_split=None,\n",
       "                       min_samples_leaf=1, min_samples_split=0.001,\n",
       "                       min_weight_fraction_leaf=0.0, n_estimators=50,\n",
       "                       n_jobs=None, oob_score=False, random_state=0, verbose=0,\n",
       "                       warm_start=False)"
      ]
     },
     "execution_count": 22,
     "metadata": {},
     "output_type": "execute_result"
    }
   ],
   "source": [
    "# Fit the optimal model.\n",
    "\n",
    "rf_opt.fit(X_train, y_train)"
   ]
  },
  {
   "cell_type": "code",
   "execution_count": 23,
   "metadata": {
    "id": "2cc40ec1-5fa4-4803-9021-abea9699a804"
   },
   "outputs": [],
   "source": [
    "# Predict on test set.\n",
    "\n",
    "y_pred = rf_opt.predict(X_test)"
   ]
  },
  {
   "cell_type": "code",
   "execution_count": null,
   "metadata": {
    "colab": {
     "base_uri": "https://localhost:8080/"
    },
    "executionInfo": {
     "elapsed": 503,
     "status": "ok",
     "timestamp": 1663368094079,
     "user": {
      "displayName": "Lavanya Vijayan",
      "userId": "01043085078394539645"
     },
     "user_tz": 420
    },
    "id": "6913aa4b",
    "outputId": "779df510-8f17-4e92-85c1-e722b4154e51"
   },
   "outputs": [],
   "source": [
    "# Get precision score.\n",
    "\n",
    "pc_test = precision_score(y_test, y_pred, pos_label = \"satisfied\")\n",
    "print(\"The precision score is {pc:.3f}\".format(pc = pc_test))\n",
    "# pc_test"
   ]
  },
  {
   "cell_type": "code",
   "execution_count": null,
   "metadata": {
    "colab": {
     "base_uri": "https://localhost:8080/"
    },
    "executionInfo": {
     "elapsed": 659,
     "status": "ok",
     "timestamp": 1663368094731,
     "user": {
      "displayName": "Lavanya Vijayan",
      "userId": "01043085078394539645"
     },
     "user_tz": 420
    },
    "id": "dd971df6",
    "outputId": "62641fc3-e6f1-42e5-efdf-398e9ee24e22"
   },
   "outputs": [],
   "source": [
    "# Get recall score.\n",
    "\n",
    "\n",
    "rc_test = recall_score(y_test, y_pred, pos_label = \"satisfied\")\n",
    "print(\"The recall score is {rc:.3f}\".format(rc = rc_test))"
   ]
  },
  {
   "cell_type": "code",
   "execution_count": 26,
   "metadata": {
    "colab": {
     "base_uri": "https://localhost:8080/"
    },
    "executionInfo": {
     "elapsed": 13,
     "status": "ok",
     "timestamp": 1663368094732,
     "user": {
      "displayName": "Lavanya Vijayan",
      "userId": "01043085078394539645"
     },
     "user_tz": 420
    },
    "id": "011b8b71",
    "outputId": "eabca891-7da1-4da6-8109-9c778297436f"
   },
   "outputs": [
    {
     "name": "stdout",
     "output_type": "stream",
     "text": [
      "The accuracy score is 0.942\n"
     ]
    }
   ],
   "source": [
    "# Get accuracy score.\n",
    "\n",
    "ac_test = accuracy_score(y_test, y_pred)\n",
    "print(\"The accuracy score is {ac:.3f}\".format(ac = ac_test))"
   ]
  },
  {
   "cell_type": "code",
   "execution_count": 27,
   "metadata": {
    "colab": {
     "base_uri": "https://localhost:8080/"
    },
    "executionInfo": {
     "elapsed": 792,
     "status": "ok",
     "timestamp": 1663368095515,
     "user": {
      "displayName": "Lavanya Vijayan",
      "userId": "01043085078394539645"
     },
     "user_tz": 420
    },
    "id": "490fcb3e",
    "outputId": "a69a2aec-0b53-4a59-ee5b-650149dce00d"
   },
   "outputs": [
    {
     "name": "stdout",
     "output_type": "stream",
     "text": [
      "The F1 score is 0.947\n"
     ]
    }
   ],
   "source": [
    "# Get F1 score.\n",
    "\n",
    "f1_test = f1_score(y_test, y_pred, pos_label = \"satisfied\")\n",
    "print(\"The F1 score is {f1:.3f}\".format(f1 = f1_test))"
   ]
  },
  {
   "cell_type": "code",
   "execution_count": null,
   "metadata": {
    "colab": {
     "base_uri": "https://localhost:8080/"
    },
    "executionInfo": {
     "elapsed": 24,
     "status": "ok",
     "timestamp": 1663368095518,
     "user": {
      "displayName": "Lavanya Vijayan",
      "userId": "01043085078394539645"
     },
     "user_tz": 420
    },
    "id": "RUT99rnqOds3",
    "outputId": "0e65d9bd-6617-42b9-fd35-14974bd3b4d5"
   },
   "outputs": [],
   "source": [
    "# Precision score on test data set.\n",
    "\n",
    "print(\"\\nThe precision score is: {pc:.3f}\".format(pc = pc_test),\" for test set\")"
   ]
  },
  {
   "cell_type": "code",
   "execution_count": null,
   "metadata": {
    "colab": {
     "base_uri": "https://localhost:8080/"
    },
    "executionInfo": {
     "elapsed": 25,
     "status": "ok",
     "timestamp": 1663368095886,
     "user": {
      "displayName": "Lavanya Vijayan",
      "userId": "01043085078394539645"
     },
     "user_tz": 420
    },
    "id": "VrYHruUdV1Os",
    "outputId": "ec36d8b8-c284-4e50-fba8-8e6de185383d"
   },
   "outputs": [],
   "source": [
    "# Accuracy score on test data set.\n",
    "\n",
    "print(\"\\nThe accuracy score is: {ac:.3f}\".format(ac = ac_test), \"for the test set\")"
   ]
  },
  {
   "cell_type": "code",
   "execution_count": null,
   "metadata": {
    "colab": {
     "base_uri": "https://localhost:8080/"
    },
    "executionInfo": {
     "elapsed": 25,
     "status": "ok",
     "timestamp": 1663368095888,
     "user": {
      "displayName": "Lavanya Vijayan",
      "userId": "01043085078394539645"
     },
     "user_tz": 420
    },
    "id": "pKGc64U2YbL1",
    "outputId": "86d8c589-efa6-44dd-b925-1a891288d5a3"
   },
   "outputs": [],
   "source": [
    "# F1 score on test data set.\n",
    "\n",
    "print(\"\\nThe F1 score is: {f1:.3f}\".format(f1 = f1_test), \"for the test set\")"
   ]
  }
 ],
 "metadata": {
  "colab": {
   "collapsed_sections": [],
   "provenance": [
    {
     "file_id": "1ajeXfekjHYYlATQqDdzWb2bjoSQPy9e5",
     "timestamp": 1661470003810
    },
    {
     "file_id": "1sKzoVdsFNq2nBg0uus6LyTzuD2Ktou4t",
     "timestamp": 1661452831142
    }
   ]
  },
  "gpuClass": "standard",
  "kernelspec": {
   "display_name": "Python 3",
   "language": "python",
   "name": "python3"
  },
  "language_info": {
   "codemirror_mode": {
    "name": "ipython",
    "version": 3
   },
   "file_extension": ".py",
   "mimetype": "text/x-python",
   "name": "python",
   "nbconvert_exporter": "python",
   "pygments_lexer": "ipython3",
   "version": "3.10.5"
  }
 },
 "nbformat": 4,
 "nbformat_minor": 5
}
